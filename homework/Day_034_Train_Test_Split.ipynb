{
 "cells": [
  {
   "cell_type": "markdown",
   "metadata": {},
   "source": [
    "## [教學目標]\n",
    "學習使用 sklearn 中的 train_test_split 等套件，進行資料的切分  \n",
    "\n",
    "## [範例重點]\n",
    "了解函數中各個參數的意義"
   ]
  },
  {
   "cell_type": "code",
   "execution_count": 1,
   "metadata": {},
   "outputs": [],
   "source": [
    "# 引入套件\n",
    "from sklearn.model_selection import train_test_split, KFold\n",
    "import numpy as np"
   ]
  },
  {
   "cell_type": "code",
   "execution_count": 2,
   "metadata": {},
   "outputs": [
    {
     "name": "stdout",
     "output_type": "stream",
     "text": [
      "Shape of x： (10, 5)\n",
      "Shape of y： (10,)\n"
     ]
    }
   ],
   "source": [
    "# 使用 numpy 生成隨機資料\n",
    "\n",
    "# 生成從 0~50 的 array，並 reshape成(10,5)的 matrix\n",
    "x = np.arange(50).reshape(10,5)\n",
    "\n",
    "# 生成全為 0 的 array\n",
    "y = np.zeros(10)\n",
    "y[:5] = 1   # 將前面一半的 0值改為 1 \n",
    "\n",
    "print('Shape of x：',x.shape)\n",
    "print('Shape of y：',y.shape)"
   ]
  },
  {
   "cell_type": "code",
   "execution_count": 3,
   "metadata": {},
   "outputs": [
    {
     "name": "stdout",
     "output_type": "stream",
     "text": [
      "x：shape：(10, 5)\n",
      "[[ 0  1  2  3  4]\n",
      " [ 5  6  7  8  9]\n",
      " [10 11 12 13 14]\n",
      " [15 16 17 18 19]\n",
      " [20 21 22 23 24]\n",
      " [25 26 27 28 29]\n",
      " [30 31 32 33 34]\n",
      " [35 36 37 38 39]\n",
      " [40 41 42 43 44]\n",
      " [45 46 47 48 49]]\n",
      " \n",
      "y：shape：(10,)\n",
      "[1. 1. 1. 1. 1. 0. 0. 0. 0. 0.]\n"
     ]
    }
   ],
   "source": [
    "print('x：shape：'+str(x.shape))\n",
    "print(x)\n",
    "\n",
    "print(' ')\n",
    "\n",
    "print('y：shape：'+str(y.shape))\n",
    "print(y)"
   ]
  },
  {
   "cell_type": "markdown",
   "metadata": {},
   "source": [
    "## 使用 train_test_split 函數進行切分\n",
    "請參考 train_test_split 函數的[說明](http://scikit-learn.org/stable/modules/generated/sklearn.model_selection.train_test_split.html)，了解函數裡的參數意義\n",
    "\n",
    "- test_size 一定只能小於 1 嗎？\n",
    "- random_state 不設置會怎麼樣呢？"
   ]
  },
  {
   "cell_type": "code",
   "execution_count": 5,
   "metadata": {},
   "outputs": [],
   "source": [
    "x_train, x_test, y_train, y_test = train_test_split(x, y, test_size=0.33, random_state=42)"
   ]
  },
  {
   "cell_type": "code",
   "execution_count": 6,
   "metadata": {},
   "outputs": [
    {
     "data": {
      "text/plain": [
       "array([[35, 36, 37, 38, 39],\n",
       "       [10, 11, 12, 13, 14],\n",
       "       [45, 46, 47, 48, 49],\n",
       "       [20, 21, 22, 23, 24],\n",
       "       [15, 16, 17, 18, 19],\n",
       "       [30, 31, 32, 33, 34]])"
      ]
     },
     "execution_count": 6,
     "metadata": {},
     "output_type": "execute_result"
    }
   ],
   "source": [
    "x_train"
   ]
  },
  {
   "cell_type": "code",
   "execution_count": 7,
   "metadata": {},
   "outputs": [
    {
     "data": {
      "text/plain": [
       "array([0., 1., 0., 1., 1., 0.])"
      ]
     },
     "execution_count": 7,
     "metadata": {},
     "output_type": "execute_result"
    }
   ],
   "source": [
    "y_train"
   ]
  },
  {
   "cell_type": "markdown",
   "metadata": {},
   "source": [
    "## 使用 K-fold Cross-validation 來切分資料\n",
    "請參考 kf 函數的[說明](https://scikit-learn.org/stable/modules/generated/sklearn.model_selection.KFold.html)，了解參數中的意義。K 可根據資料大小自行決定，K=5 是蠻常用的大小\n",
    "\n",
    "- 如果使用 shuffle=True 會怎麼樣?"
   ]
  },
  {
   "cell_type": "code",
   "execution_count": 10,
   "metadata": {},
   "outputs": [
    {
     "name": "stdout",
     "output_type": "stream",
     "text": [
      "Fold 1：\n",
      "x_test： [[0 1 2 3 4]\n",
      " [5 6 7 8 9]]\n",
      "y_test： [1. 1.]\n",
      "------------------------------\n",
      "Fold 2：\n",
      "x_test： [[10 11 12 13 14]\n",
      " [15 16 17 18 19]]\n",
      "y_test： [1. 1.]\n",
      "------------------------------\n",
      "Fold 3：\n",
      "x_test： [[20 21 22 23 24]\n",
      " [25 26 27 28 29]]\n",
      "y_test： [1. 0.]\n",
      "------------------------------\n",
      "Fold 4：\n",
      "x_test： [[30 31 32 33 34]\n",
      " [35 36 37 38 39]]\n",
      "y_test： [0. 0.]\n",
      "------------------------------\n",
      "Fold 5：\n",
      "x_test： [[40 41 42 43 44]\n",
      " [45 46 47 48 49]]\n",
      "y_test： [0. 0.]\n",
      "------------------------------\n",
      "kf =  KFold(n_splits=5, random_state=None, shuffle=False)\n"
     ]
    }
   ],
   "source": [
    "kf = KFold(n_splits=5)\n",
    "\n",
    "i = 0\n",
    "for train_index, test_index in kf.split(x):\n",
    "    i += 1\n",
    "    x_train, x_test = x[train_index], x[test_index]\n",
    "    y_train, y_test = y[train_index], y[test_index]\n",
    "    \n",
    "    print('Fold {}：'.format(i))\n",
    "    print('x_test：',x_test)\n",
    "    print('y_test：',y_test)\n",
    "    print('-'*30)\n",
    "\n",
    "    \n",
    "print('kf = ',kf)"
   ]
  },
  {
   "cell_type": "code",
   "execution_count": null,
   "metadata": {},
   "outputs": [],
   "source": []
  }
 ],
 "metadata": {
  "kernelspec": {
   "display_name": "Python 3",
   "language": "python",
   "name": "python3"
  },
  "language_info": {
   "codemirror_mode": {
    "name": "ipython",
    "version": 3
   },
   "file_extension": ".py",
   "mimetype": "text/x-python",
   "name": "python",
   "nbconvert_exporter": "python",
   "pygments_lexer": "ipython3",
   "version": "3.6.8"
  }
 },
 "nbformat": 4,
 "nbformat_minor": 2
}

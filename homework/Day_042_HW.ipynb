{
 "cells": [
  {
   "cell_type": "markdown",
   "metadata": {},
   "source": [
    "## [作業重點]\n",
    "目前你應該已經要很清楚資料集中，資料的型態是什麼樣子囉！包含特徵 (features) 與標籤 (labels)。因此要記得未來不管什麼專案，必須要把資料清理成相同的格式，才能送進模型訓練。\n",
    "今天的作業開始踏入決策樹這個非常重要的模型，請務必確保你理解模型中每個超參數的意思，並試著調整看看，對最終預測結果的影響為何  \n",
    "\n",
    "## 作業\n",
    "\n",
    "1. 試著調整 DecisionTreeClassifier(...) 中的參數，並觀察是否會改變結果？\n",
    "2. 改用其他資料集 (boston, wine)，並與回歸模型的結果進行比較"
   ]
  },
  {
   "cell_type": "code",
   "execution_count": 14,
   "metadata": {},
   "outputs": [],
   "source": [
    "from sklearn import datasets, metrics\n",
    "\n",
    "# 分類問題，使用 DecisionTreeClassifier\n",
    "# 迴歸問題，使用 DecisionTreeRegressor\n",
    "from sklearn.tree import DecisionTreeClassifier, DecisionTreeRegressor\n",
    "from sklearn.model_selection import train_test_split\n"
   ]
  },
  {
   "cell_type": "code",
   "execution_count": 15,
   "metadata": {},
   "outputs": [],
   "source": [
    "# 讀取內建鳶尾花資料集\n",
    "iris = datasets.load_iris()\n",
    "\n",
    "# 分割訓練集、測試集\n",
    "x_train, x_test, y_train, y_test = train_test_split(iris.data, iris.target, test_size=0.25, random_state=4)\n",
    "\n",
    "# 建立分類模型\n",
    "clf = DecisionTreeClassifier(criterion='entropy', random_state=4)\n",
    "\n",
    "# 訓練模型，將訓練集給模型訓練\n",
    "clf.fit(x_train, y_train)\n",
    "\n",
    "# 預測測試集結果\n",
    "y_pred = clf.predict(x_test)"
   ]
  },
  {
   "cell_type": "code",
   "execution_count": 16,
   "metadata": {},
   "outputs": [
    {
     "name": "stdout",
     "output_type": "stream",
     "text": [
      "Accuracy： 0.9736842105263158\n"
     ]
    }
   ],
   "source": [
    "# 計算準確率\n",
    "acc = metrics.accuracy_score(y_test, y_pred)\n",
    "print('Accuracy：', acc)"
   ]
  },
  {
   "cell_type": "markdown",
   "metadata": {},
   "source": [
    "#### **將決策樹的規範方法改為 entropy，但預測的結果準確率不變**"
   ]
  },
  {
   "cell_type": "code",
   "execution_count": 17,
   "metadata": {},
   "outputs": [],
   "source": [
    "# 讀取內建紅酒資料集\n",
    "wine = datasets.load_wine()\n",
    "\n",
    "# 分割訓練集、測試集\n",
    "x_train, x_test, y_train, y_test = train_test_split(wine.data, wine.target, test_size=0.25, random_state=0)\n",
    "\n",
    "# 建立分類模型\n",
    "clf = DecisionTreeClassifier(criterion='gini', random_state=0)\n",
    "\n",
    "# 訓練模型，將訓練集給模型訓練\n",
    "clf.fit(x_train, y_train)\n",
    "\n",
    "# 預測測試集結果\n",
    "y_pred = clf.predict(x_test)"
   ]
  },
  {
   "cell_type": "code",
   "execution_count": 18,
   "metadata": {},
   "outputs": [
    {
     "name": "stdout",
     "output_type": "stream",
     "text": [
      "['alcohol', 'malic_acid', 'ash', 'alcalinity_of_ash', 'magnesium', 'total_phenols', 'flavanoids', 'nonflavanoid_phenols', 'proanthocyanins', 'color_intensity', 'hue', 'od280/od315_of_diluted_wines', 'proline']\n",
      "----------------------------------------\n",
      "Accuracy： 0.9333333333333333\n",
      "----------------------------------------\n",
      "Feature importance： [0.         0.01888132 0.02216502 0.         0.         0.\n",
      " 0.43241919 0.         0.         0.403156   0.         0.\n",
      " 0.12337846]\n"
     ]
    }
   ],
   "source": [
    "# 顯示特徵名稱\n",
    "print(wine.feature_names)\n",
    "print('-'*40)\n",
    "# 計算準確率\n",
    "acc = metrics.accuracy_score(y_test, y_pred)\n",
    "print('Accuracy：', acc)\n",
    "print('-'*40)\n",
    "# 特徵魚的重要性，數值越大越重要\n",
    "print('Feature importance：', clf.feature_importances_)"
   ]
  },
  {
   "cell_type": "code",
   "execution_count": 19,
   "metadata": {},
   "outputs": [],
   "source": [
    "# 讀取內建紅酒資料集\n",
    "wine = datasets.load_wine()\n",
    "\n",
    "# 分割訓練集、測試集\n",
    "x_train, x_test, y_train, y_test = train_test_split(wine.data, wine.target, test_size=0.25, random_state=0)\n",
    "\n",
    "# 建立決策樹迴歸模型\n",
    "clf = DecisionTreeRegressor(criterion='mse', random_state=0)\n",
    "\n",
    "# 訓練模型，將訓練集給模型訓練\n",
    "clf.fit(x_train, y_train)\n",
    "\n",
    "# 預測測試集結果\n",
    "y_pred = clf.predict(x_test)"
   ]
  },
  {
   "cell_type": "code",
   "execution_count": 20,
   "metadata": {},
   "outputs": [
    {
     "name": "stdout",
     "output_type": "stream",
     "text": [
      "['alcohol', 'malic_acid', 'ash', 'alcalinity_of_ash', 'magnesium', 'total_phenols', 'flavanoids', 'nonflavanoid_phenols', 'proanthocyanins', 'color_intensity', 'hue', 'od280/od315_of_diluted_wines', 'proline']\n",
      "----------------------------------------\n",
      "Accuracy： 0.9333333333333333\n",
      "----------------------------------------\n",
      "Feature importance： [0.         0.00371016 0.         0.         0.         0.\n",
      " 0.65833549 0.         0.         0.12235203 0.         0.\n",
      " 0.21560232]\n"
     ]
    }
   ],
   "source": [
    "# 顯示特徵名稱\n",
    "print(wine.feature_names)\n",
    "print('-'*40)\n",
    "# 計算準確率\n",
    "acc = metrics.accuracy_score(y_test, y_pred)\n",
    "print('Accuracy：', acc)\n",
    "print('-'*40)\n",
    "# 特徵魚的重要性，數值越大越重要\n",
    "print('Feature importance：', clf.feature_importances_)"
   ]
  },
  {
   "cell_type": "code",
   "execution_count": null,
   "metadata": {},
   "outputs": [],
   "source": []
  }
 ],
 "metadata": {
  "kernelspec": {
   "display_name": "Python 3",
   "language": "python",
   "name": "python3"
  },
  "language_info": {
   "codemirror_mode": {
    "name": "ipython",
    "version": 3
   },
   "file_extension": ".py",
   "mimetype": "text/x-python",
   "name": "python",
   "nbconvert_exporter": "python",
   "pygments_lexer": "ipython3",
   "version": "3.6.8"
  }
 },
 "nbformat": 4,
 "nbformat_minor": 2
}

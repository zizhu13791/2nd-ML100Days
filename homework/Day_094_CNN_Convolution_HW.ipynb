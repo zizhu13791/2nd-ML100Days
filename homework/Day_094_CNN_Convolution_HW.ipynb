{
 "cells": [
  {
   "cell_type": "markdown",
   "metadata": {},
   "source": [
    "# 作業目標:\n",
    "    了解 Convolution 卷積的組成\n",
    "    \n",
    "# 作業重點:\n",
    "    修改 a_slice_prev, 檢查 Z 的輸出"
   ]
  },
  {
   "cell_type": "code",
   "execution_count": 1,
   "metadata": {},
   "outputs": [],
   "source": [
    "import numpy as np"
   ]
  },
  {
   "cell_type": "code",
   "execution_count": 2,
   "metadata": {},
   "outputs": [],
   "source": [
    "# GRADED Function: conv_single_step\n",
    "'''\n",
    "定義一層 ketnal(內核)\n",
    "Arguments：\n",
    "    a_slice_prev -- 輸入的資料維度\n",
    "    w -- 權重，被使用在 a_slice_prev\n",
    "    b -- 偏差參數\n",
    "Returns：\n",
    "    z -- 滑動窗口(w, b)，卷積在前一個feature map上的結果\n",
    "'''\n",
    "def conv_single_step(a_slice_prev, w, b):\n",
    "    # 定義一個介於 a_slice 和 w 之間的元素\n",
    "    s = a_slice_prev * w\n",
    "    \n",
    "    # 指定 z 為加總所有 s 的數\n",
    "    z = np.sum(s)\n",
    "    \n",
    "    # add bias b to z \n",
    "    z = float(z+b)\n",
    "    \n",
    "    return z"
   ]
  },
  {
   "cell_type": "code",
   "execution_count": 3,
   "metadata": {},
   "outputs": [
    {
     "name": "stdout",
     "output_type": "stream",
     "text": [
      "z =  -5.35666521879178\n"
     ]
    }
   ],
   "source": [
    "'''\n",
    "seed() 用於指定隨機變數生成時所用，表示開始的整數值，\n",
    "如果使用相同的 seed()值，則每一次生成的隨機數都相同，\n",
    "如果沒有設置這個值，則系統會根據時間來自己選擇這個值，\n",
    "此時每次生成的隨機數因時間差異會有不同。\n",
    "'''\n",
    "np.random.seed(5)\n",
    "\n",
    "# 定義一個 4x4x1 的 feature map\n",
    "a_slice_prev = np.random.randn(4,4,1)\n",
    "\n",
    "w = np.random.randn(4,4,1)\n",
    "b = np.random.randn(1,1,1)\n",
    "\n",
    "# 取得計算後卷積矩陣的值\n",
    "z = conv_single_step(a_slice_prev, w, b)\n",
    "\n",
    "\n",
    "#print('a_slice_prev = ', a_slice_prev)\n",
    "#print('w = ', w, ' b = ', b)\n",
    "print('z = ', z)\n"
   ]
  },
  {
   "cell_type": "code",
   "execution_count": 4,
   "metadata": {},
   "outputs": [
    {
     "name": "stdout",
     "output_type": "stream",
     "text": [
      "z =  10.814852626280185\n"
     ]
    }
   ],
   "source": [
    "# 定義一個 5x5x3 的 feature map\n",
    "a_slice_prev = np.random.randn(5,5,3)\n",
    "\n",
    "w = np.random.randn(5,5,3)\n",
    "b = np.random.randn(1,1,1)\n",
    "\n",
    "# 取得計算後卷積矩陣的值\n",
    "z = conv_single_step(a_slice_prev, w, b)\n",
    "\n",
    "\n",
    "print('z = ', z)"
   ]
  },
  {
   "cell_type": "code",
   "execution_count": null,
   "metadata": {},
   "outputs": [],
   "source": []
  }
 ],
 "metadata": {
  "kernelspec": {
   "display_name": "Python 3",
   "language": "python",
   "name": "python3"
  },
  "language_info": {
   "codemirror_mode": {
    "name": "ipython",
    "version": 3
   },
   "file_extension": ".py",
   "mimetype": "text/x-python",
   "name": "python",
   "nbconvert_exporter": "python",
   "pygments_lexer": "ipython3",
   "version": "3.6.9"
  }
 },
 "nbformat": 4,
 "nbformat_minor": 2
}

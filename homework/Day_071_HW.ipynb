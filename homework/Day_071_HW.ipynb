{
 "cells": [
  {
   "cell_type": "markdown",
   "metadata": {},
   "source": [
    "## 作業目標:\n",
    "\n",
    "    1. 藉由固定的 dataset, 來驗證不同loss function\n",
    "    2. Dataset 的特性跟我們選用的loss function 對accrancy 的影響\n",
    "    \n",
    "    \n",
    "## 作業重點: \n",
    "    請分別選用 \"MSE\", \"binary _crossentropy\"\n",
    "    查看Train/test accurancy and loss rate\n",
    "    "
   ]
  },
  {
   "cell_type": "markdown",
   "metadata": {},
   "source": [
    "### 資料準備"
   ]
  },
  {
   "cell_type": "code",
   "execution_count": 1,
   "metadata": {},
   "outputs": [
    {
     "name": "stderr",
     "output_type": "stream",
     "text": [
      "Using TensorFlow backend.\n"
     ]
    }
   ],
   "source": [
    "# 引用相關函式庫\n",
    "from keras.datasets import cifar10\n",
    "import numpy as np\n",
    "\n",
    "np.random.seed(10)"
   ]
  },
  {
   "cell_type": "code",
   "execution_count": 2,
   "metadata": {},
   "outputs": [],
   "source": [
    "# 取得 Dataset\n",
    "(x_train_image, y_train_label),(x_test_image, y_test_label) = cifar10.load_data()"
   ]
  },
  {
   "cell_type": "code",
   "execution_count": 3,
   "metadata": {},
   "outputs": [
    {
     "name": "stdout",
     "output_type": "stream",
     "text": [
      "Train data： image (50000, 32, 32, 3)  label (50000, 1)\n",
      "Test  data： image (10000, 32, 32, 3)  label (10000, 1)\n"
     ]
    }
   ],
   "source": [
    "# 確認 cifar10 dataset 的資料維度\n",
    "print('Train data： image',x_train_image.shape,' label',y_train_label.shape)\n",
    "print('Test  data： image',x_test_image.shape,' label',y_test_label.shape)"
   ]
  },
  {
   "cell_type": "code",
   "execution_count": 4,
   "metadata": {},
   "outputs": [],
   "source": [
    "# 資料正規化\n",
    "x_train_normalize = x_train_image.astype('float32')/255.0\n",
    "x_test_normalize = x_test_image.astype('float32')/255.0"
   ]
  },
  {
   "cell_type": "code",
   "execution_count": 6,
   "metadata": {},
   "outputs": [],
   "source": [
    "# 針對 Label 做 OneHot Encode\n",
    "from keras.utils import np_utils\n",
    "\n",
    "y_train_OneHot = np_utils.to_categorical(y_train_label)\n",
    "y_test_OneHot = np_utils.to_categorical(y_test_label)"
   ]
  },
  {
   "cell_type": "code",
   "execution_count": 7,
   "metadata": {},
   "outputs": [
    {
     "name": "stdout",
     "output_type": "stream",
     "text": [
      "Train data： (50000, 10)\n",
      "Test  data： (10000, 10)\n"
     ]
    }
   ],
   "source": [
    "# 比對編碼後的 Label 維度變化\n",
    "print('Train data：',y_train_OneHot.shape)\n",
    "print('Test  data：',y_test_OneHot.shape)"
   ]
  },
  {
   "cell_type": "markdown",
   "metadata": {},
   "source": [
    "### 建立模型"
   ]
  },
  {
   "cell_type": "code",
   "execution_count": 8,
   "metadata": {},
   "outputs": [
    {
     "name": "stderr",
     "output_type": "stream",
     "text": [
      "WARNING: Logging before flag parsing goes to stderr.\n",
      "W0927 14:44:13.944458  1964 deprecation_wrapper.py:119] From C:\\Users\\USER\\AppData\\Local\\conda\\conda\\envs\\env_for_tensorflow\\lib\\site-packages\\keras\\backend\\tensorflow_backend.py:74: The name tf.get_default_graph is deprecated. Please use tf.compat.v1.get_default_graph instead.\n",
      "\n"
     ]
    }
   ],
   "source": [
    "from keras.models import Sequential\n",
    "from keras.layers import Dense, Dropout, Activation, Flatten\n",
    "from keras.layers import Conv2D, MaxPooling2D, ZeroPadding2D\n",
    "\n",
    "# 宣告採用序列模型\n",
    "model = Sequential()"
   ]
  },
  {
   "cell_type": "code",
   "execution_count": 10,
   "metadata": {},
   "outputs": [
    {
     "name": "stderr",
     "output_type": "stream",
     "text": [
      "W0927 14:47:49.523123  1964 deprecation_wrapper.py:119] From C:\\Users\\USER\\AppData\\Local\\conda\\conda\\envs\\env_for_tensorflow\\lib\\site-packages\\keras\\backend\\tensorflow_backend.py:517: The name tf.placeholder is deprecated. Please use tf.compat.v1.placeholder instead.\n",
      "\n",
      "W0927 14:47:49.539113  1964 deprecation_wrapper.py:119] From C:\\Users\\USER\\AppData\\Local\\conda\\conda\\envs\\env_for_tensorflow\\lib\\site-packages\\keras\\backend\\tensorflow_backend.py:4138: The name tf.random_uniform is deprecated. Please use tf.random.uniform instead.\n",
      "\n",
      "W0927 14:47:49.728995  1964 deprecation_wrapper.py:119] From C:\\Users\\USER\\AppData\\Local\\conda\\conda\\envs\\env_for_tensorflow\\lib\\site-packages\\keras\\backend\\tensorflow_backend.py:133: The name tf.placeholder_with_default is deprecated. Please use tf.compat.v1.placeholder_with_default instead.\n",
      "\n",
      "W0927 14:47:49.766971  1964 deprecation.py:506] From C:\\Users\\USER\\AppData\\Local\\conda\\conda\\envs\\env_for_tensorflow\\lib\\site-packages\\keras\\backend\\tensorflow_backend.py:3445: calling dropout (from tensorflow.python.ops.nn_ops) with keep_prob is deprecated and will be removed in a future version.\n",
      "Instructions for updating:\n",
      "Please use `rate` instead of `keep_prob`. Rate should be set to `rate = 1 - keep_prob`.\n",
      "W0927 14:47:49.840925  1964 deprecation_wrapper.py:119] From C:\\Users\\USER\\AppData\\Local\\conda\\conda\\envs\\env_for_tensorflow\\lib\\site-packages\\keras\\backend\\tensorflow_backend.py:3976: The name tf.nn.max_pool is deprecated. Please use tf.nn.max_pool2d instead.\n",
      "\n"
     ]
    }
   ],
   "source": [
    "# 輸入層，使用卷積網路\n",
    "model.add(Conv2D(filters=32,\n",
    "                 kernel_size=(3, 3),\n",
    "                 input_shape=(32, 32, 3),\n",
    "                 activation='relu',\n",
    "                 padding='same'))\n",
    "\n",
    "model.add(Dropout(rate=0.25))\n",
    "\n",
    "model.add(MaxPooling2D(pool_size=(2, 2)))"
   ]
  },
  {
   "cell_type": "code",
   "execution_count": 11,
   "metadata": {},
   "outputs": [],
   "source": [
    "# 隱藏層，使用一個卷積網路\n",
    "model.add(Conv2D(filters=64,\n",
    "                 kernel_size=(3, 3),\n",
    "                 activation='relu',\n",
    "                 padding='same'))\n",
    "\n",
    "model.add(Dropout(rate=0.25))\n",
    "\n",
    "model.add(MaxPooling2D(pool_size=(2, 2)))"
   ]
  },
  {
   "cell_type": "code",
   "execution_count": 12,
   "metadata": {},
   "outputs": [],
   "source": [
    "# 建立神經網路(平坦層、隱藏層、輸出層)\n",
    "model.add(Flatten())\n",
    "model.add(Dropout(rate=0.25))\n",
    "\n",
    "model.add(Dense(1024, activation='relu'))\n",
    "model.add(Dropout(rate=0.25))\n",
    "\n",
    "model.add(Dense(10, activation='softmax'))"
   ]
  },
  {
   "cell_type": "code",
   "execution_count": 13,
   "metadata": {},
   "outputs": [
    {
     "name": "stdout",
     "output_type": "stream",
     "text": [
      "_________________________________________________________________\n",
      "Layer (type)                 Output Shape              Param #   \n",
      "=================================================================\n",
      "conv2d_1 (Conv2D)            (None, 32, 32, 32)        896       \n",
      "_________________________________________________________________\n",
      "dropout_1 (Dropout)          (None, 32, 32, 32)        0         \n",
      "_________________________________________________________________\n",
      "max_pooling2d_1 (MaxPooling2 (None, 16, 16, 32)        0         \n",
      "_________________________________________________________________\n",
      "conv2d_2 (Conv2D)            (None, 16, 16, 64)        18496     \n",
      "_________________________________________________________________\n",
      "dropout_2 (Dropout)          (None, 16, 16, 64)        0         \n",
      "_________________________________________________________________\n",
      "max_pooling2d_2 (MaxPooling2 (None, 8, 8, 64)          0         \n",
      "_________________________________________________________________\n",
      "flatten_1 (Flatten)          (None, 4096)              0         \n",
      "_________________________________________________________________\n",
      "dropout_3 (Dropout)          (None, 4096)              0         \n",
      "_________________________________________________________________\n",
      "dense_1 (Dense)              (None, 1024)              4195328   \n",
      "_________________________________________________________________\n",
      "dropout_4 (Dropout)          (None, 1024)              0         \n",
      "_________________________________________________________________\n",
      "dense_2 (Dense)              (None, 10)                10250     \n",
      "=================================================================\n",
      "Total params: 4,224,970\n",
      "Trainable params: 4,224,970\n",
      "Non-trainable params: 0\n",
      "_________________________________________________________________\n",
      "None\n"
     ]
    }
   ],
   "source": [
    "# 檢查 model stack\n",
    "print(model.summary())"
   ]
  },
  {
   "cell_type": "markdown",
   "metadata": {},
   "source": [
    "### 檢查之前是否有模型資訊"
   ]
  },
  {
   "cell_type": "code",
   "execution_count": 15,
   "metadata": {},
   "outputs": [
    {
     "name": "stdout",
     "output_type": "stream",
     "text": [
      "載入模型失敗!開始訓練新模型。\n"
     ]
    }
   ],
   "source": [
    "try: \n",
    "    model.load_weights('SaveModel/cifarCnnModel.h5')\n",
    "    print('載入模型成功! 繼續訓練模型。')\n",
    "except:\n",
    "    print('載入模型失敗!開始訓練新模型。')"
   ]
  },
  {
   "cell_type": "markdown",
   "metadata": {},
   "source": [
    "### 訓練模型  \n",
    "    請分別選用 \"MSE\", \"binary _crossentropy\"\n",
    "    查看Train/test accurancy and loss rate"
   ]
  },
  {
   "cell_type": "code",
   "execution_count": 18,
   "metadata": {},
   "outputs": [],
   "source": [
    "# 模型編譯 binary_crossentropy\n",
    "model.compile(loss='binary_crossentropy', optimizer='Adam',metrics=['accuracy'])"
   ]
  },
  {
   "cell_type": "code",
   "execution_count": 19,
   "metadata": {},
   "outputs": [
    {
     "name": "stdout",
     "output_type": "stream",
     "text": [
      "Train on 37500 samples, validate on 12500 samples\n",
      "Epoch 1/10\n",
      "37500/37500 [==============================] - 280s 7ms/step - loss: 0.1875 - acc: 0.9261 - val_loss: 0.1781 - val_acc: 0.9297\n",
      "Epoch 2/10\n",
      "37500/37500 [==============================] - 301s 8ms/step - loss: 0.1620 - acc: 0.9361 - val_loss: 0.1707 - val_acc: 0.9334\n",
      "Epoch 3/10\n",
      "37500/37500 [==============================] - 252s 7ms/step - loss: 0.1440 - acc: 0.9433 - val_loss: 0.1543 - val_acc: 0.9396\n",
      "Epoch 4/10\n",
      "37500/37500 [==============================] - 248s 7ms/step - loss: 0.1301 - acc: 0.9486 - val_loss: 0.1468 - val_acc: 0.9431\n",
      "Epoch 5/10\n",
      "37500/37500 [==============================] - 268s 7ms/step - loss: 0.1164 - acc: 0.9545 - val_loss: 0.1369 - val_acc: 0.9470\n",
      "Epoch 6/10\n",
      "37500/37500 [==============================] - 283s 8ms/step - loss: 0.1036 - acc: 0.9598 - val_loss: 0.1310 - val_acc: 0.9485\n",
      "Epoch 7/10\n",
      "37500/37500 [==============================] - 289s 8ms/step - loss: 0.0934 - acc: 0.9639 - val_loss: 0.1278 - val_acc: 0.9503\n",
      "Epoch 8/10\n",
      "37500/37500 [==============================] - 355s 9ms/step - loss: 0.0840 - acc: 0.9674 - val_loss: 0.1252 - val_acc: 0.9512\n",
      "Epoch 9/10\n",
      "37500/37500 [==============================] - 293s 8ms/step - loss: 0.0754 - acc: 0.9711 - val_loss: 0.1258 - val_acc: 0.9513\n",
      "Epoch 10/10\n",
      "37500/37500 [==============================] - 262s 7ms/step - loss: 0.0672 - acc: 0.9745 - val_loss: 0.1237 - val_acc: 0.9525\n"
     ]
    }
   ],
   "source": [
    "# 訓練模型 Train History 將訓練過程得到的數值存起來\n",
    "train_history = model.fit(x_train_normalize, y_train_OneHot,\n",
    "                          validation_split=0.25,\n",
    "                          epochs=10,\n",
    "                          batch_size=64,\n",
    "                          verbose=1)"
   ]
  },
  {
   "cell_type": "code",
   "execution_count": 20,
   "metadata": {},
   "outputs": [],
   "source": [
    "import matplotlib.pyplot as plt\n",
    "\n",
    "%matplotlib inline\n",
    "\n",
    "# 定義繪圖函數\n",
    "def show_train_history(train_acc, test_acc):\n",
    "    plt.plot(train_history.history[train_acc])\n",
    "    plt.plot(train_history.history[test_acc])\n",
    "    plt.title('Train History')\n",
    "    plt.ylabel('Accuracy')\n",
    "    plt.xlabel('Epoch')\n",
    "    plt.legend(['train_acc', 'val_acc'], loc='upper left')\n",
    "    plt.show()"
   ]
  },
  {
   "cell_type": "code",
   "execution_count": 21,
   "metadata": {},
   "outputs": [
    {
     "data": {
      "image/png": "[encoded data removed]",
      "text/plain": [
       "<Figure size 432x288 with 1 Axes>"
      ]
     },
     "metadata": {
      "needs_background": "light"
     },
     "output_type": "display_data"
    }
   ],
   "source": [
    "show_train_history('acc','val_acc')"
   ]
  },
  {
   "cell_type": "code",
   "execution_count": 22,
   "metadata": {},
   "outputs": [
    {
     "data": {
      "image/png": "[encoded data removed]",
      "text/plain": [
       "<Figure size 432x288 with 1 Axes>"
      ]
     },
     "metadata": {
      "needs_background": "light"
     },
     "output_type": "display_data"
    }
   ],
   "source": [
    "show_train_history('loss','val_loss')"
   ]
  },
  {
   "cell_type": "markdown",
   "metadata": {},
   "source": [
    "### 估計模型準確率"
   ]
  },
  {
   "cell_type": "code",
   "execution_count": 23,
   "metadata": {},
   "outputs": [
    {
     "name": "stdout",
     "output_type": "stream",
     "text": [
      "10000/10000 [==============================] - 22s 2ms/step\n",
      "Accuracy =  0.9520200223922729\n"
     ]
    }
   ],
   "source": [
    "scores = model.evaluate(x_test_normalize, y_test_OneHot)\n",
    "print('Accuracy = ', scores[1])"
   ]
  },
  {
   "cell_type": "code",
   "execution_count": null,
   "metadata": {},
   "outputs": [],
   "source": []
  },
  {
   "cell_type": "code",
   "execution_count": 24,
   "metadata": {},
   "outputs": [],
   "source": [
    "# 模型編譯 MSE\n",
    "model.compile(loss='mse', optimizer='Adam',metrics=['accuracy'])"
   ]
  },
  {
   "cell_type": "code",
   "execution_count": 25,
   "metadata": {},
   "outputs": [
    {
     "name": "stdout",
     "output_type": "stream",
     "text": [
      "Train on 37500 samples, validate on 12500 samples\n",
      "Epoch 1/10\n",
      "37500/37500 [==============================] - 256s 7ms/step - loss: 0.0181 - acc: 0.8761 - val_loss: 0.0365 - val_acc: 0.7342\n",
      "Epoch 2/10\n",
      "37500/37500 [==============================] - 257s 7ms/step - loss: 0.0167 - acc: 0.8859 - val_loss: 0.0358 - val_acc: 0.7435\n",
      "Epoch 3/10\n",
      "37500/37500 [==============================] - 259s 7ms/step - loss: 0.0158 - acc: 0.8932 - val_loss: 0.0362 - val_acc: 0.7382\n",
      "Epoch 4/10\n",
      "37500/37500 [==============================] - 250s 7ms/step - loss: 0.0147 - acc: 0.9017 - val_loss: 0.0363 - val_acc: 0.7391\n",
      "Epoch 5/10\n",
      "37500/37500 [==============================] - 250s 7ms/step - loss: 0.0140 - acc: 0.9048 - val_loss: 0.0356 - val_acc: 0.7455\n",
      "Epoch 6/10\n",
      "37500/37500 [==============================] - 254s 7ms/step - loss: 0.0131 - acc: 0.9119 - val_loss: 0.0367 - val_acc: 0.7378\n",
      "Epoch 7/10\n",
      "37500/37500 [==============================] - 271s 7ms/step - loss: 0.0127 - acc: 0.9150 - val_loss: 0.0367 - val_acc: 0.7377\n",
      "Epoch 8/10\n",
      "37500/37500 [==============================] - 294s 8ms/step - loss: 0.0123 - acc: 0.9181 - val_loss: 0.0372 - val_acc: 0.7346\n",
      "Epoch 9/10\n",
      "37500/37500 [==============================] - 316s 8ms/step - loss: 0.0122 - acc: 0.9182 - val_loss: 0.0372 - val_acc: 0.7426\n",
      "Epoch 10/10\n",
      "37500/37500 [==============================] - 320s 9ms/step - loss: 0.0116 - acc: 0.9225 - val_loss: 0.0385 - val_acc: 0.7338\n"
     ]
    }
   ],
   "source": [
    "# 訓練模型 Train History 將訓練過程得到的數值存起來\n",
    "train_history = model.fit(x_train_normalize, y_train_OneHot,\n",
    "                          validation_split=0.25,\n",
    "                          epochs=10,\n",
    "                          batch_size=64,\n",
    "                          verbose=1)"
   ]
  },
  {
   "cell_type": "code",
   "execution_count": 26,
   "metadata": {},
   "outputs": [
    {
     "name": "stdout",
     "output_type": "stream",
     "text": [
      "10000/10000 [==============================] - 22s 2ms/step\n",
      "Accuracy =  0.7347\n"
     ]
    }
   ],
   "source": [
    "scores = model.evaluate(x_test_normalize, y_test_OneHot)\n",
    "print('Accuracy = ', scores[1])"
   ]
  },
  {
   "cell_type": "code",
   "execution_count": 28,
   "metadata": {},
   "outputs": [
    {
     "data": {
      "image/png": "[encoded data removed]",
      "text/plain": [
       "<Figure size 432x288 with 1 Axes>"
      ]
     },
     "metadata": {
      "needs_background": "light"
     },
     "output_type": "display_data"
    }
   ],
   "source": [
    "show_train_history('acc','val_acc')\n"
   ]
  },
  {
   "cell_type": "code",
   "execution_count": 29,
   "metadata": {},
   "outputs": [
    {
     "data": {
      "image/png": "[encoded data removed]",
      "text/plain": [
       "<Figure size 432x288 with 1 Axes>"
      ]
     },
     "metadata": {
      "needs_background": "light"
     },
     "output_type": "display_data"
    }
   ],
   "source": [
    "show_train_history('loss','val_loss')"
   ]
  },
  {
   "cell_type": "code",
   "execution_count": null,
   "metadata": {},
   "outputs": [],
   "source": []
  }
 ],
 "metadata": {
  "kernelspec": {
   "display_name": "Python 3",
   "language": "python",
   "name": "python3"
  },
  "language_info": {
   "codemirror_mode": {
    "name": "ipython",
    "version": 3
   },
   "file_extension": ".py",
   "mimetype": "text/x-python",
   "name": "python",
   "nbconvert_exporter": "python",
   "pygments_lexer": "ipython3",
   "version": "3.6.9"
  }
 },
 "nbformat": 4,
 "nbformat_minor": 2
}

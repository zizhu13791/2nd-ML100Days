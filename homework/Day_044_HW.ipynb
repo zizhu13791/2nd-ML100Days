{
 "cells": [
  {
   "cell_type": "markdown",
   "metadata": {},
   "source": [
    "## [作業重點]\n",
    "確保你了解隨機森林模型中每個超參數的意義，並觀察調整超參數對結果的影響  \n",
    "\n",
    "## 作業\n",
    "\n",
    "1. 試著調整 RandomForestClassifier(...) 中的參數，並觀察是否會改變結果？\n",
    "2. 改用其他資料集 (boston, wine)，並與回歸模型與決策樹的結果進行比較"
   ]
  },
  {
   "cell_type": "code",
   "execution_count": 1,
   "metadata": {},
   "outputs": [],
   "source": [
    "from sklearn import datasets, metrics\n",
    "from sklearn.ensemble import RandomForestClassifier, RandomForestRegressor\n",
    "from sklearn.model_selection import train_test_split"
   ]
  },
  {
   "cell_type": "code",
   "execution_count": 2,
   "metadata": {},
   "outputs": [
    {
     "name": "stdout",
     "output_type": "stream",
     "text": [
      "Accuracy： 0.9736842105263158\n",
      "\n",
      "----------------------------------------\n",
      "\n",
      "['sepal length (cm)', 'sepal width (cm)', 'petal length (cm)', 'petal width (cm)']\n",
      "[0.06635509 0.01112639 0.4112203  0.51129822]\n"
     ]
    }
   ],
   "source": [
    "# 讀取鳶尾花資料集\n",
    "iris = datasets.load_iris()\n",
    "\n",
    "# 分割訓練集與測試集\n",
    "x_train, x_test, y_train, y_test = train_test_split(iris.data, iris.target, test_size=0.25, random_state=4)\n",
    "\n",
    "# 建立隨機森林模型\n",
    "clf = RandomForestClassifier(n_estimators=10, criterion='entropy', max_depth=5, min_samples_leaf=2)\n",
    "\n",
    "# 訓練模型\n",
    "clf.fit(x_train, y_train)\n",
    "\n",
    "# 預測測試集結果\n",
    "y_pred = clf.predict(x_test)\n",
    "\n",
    "# 計算準確率分數\n",
    "acc = metrics.accuracy_score(y_test, y_pred)\n",
    "print('Accuracy：', acc)\n",
    "\n",
    "print('\\n' + '-'*40 +'\\n')\n",
    "\n",
    "# 取得個特徵欄位的重要性\n",
    "print(iris.feature_names)\n",
    "print(clf.feature_importances_)"
   ]
  },
  {
   "cell_type": "markdown",
   "metadata": {},
   "source": [
    "### **調整參數後，準確率分數沒有差異**"
   ]
  },
  {
   "cell_type": "code",
   "execution_count": 6,
   "metadata": {},
   "outputs": [],
   "source": [
    "# 讀取紅酒資料集\n",
    "wine = datasets.load_wine()\n",
    "\n",
    "# 分割訓練集與測試集\n",
    "x1_train, x1_test, y1_train, y1_test = train_test_split(wine.data, wine.target, test_size=0.25, random_state=4)\n",
    "\n",
    "# 建立隨機森林迴歸模型\n",
    "regr = RandomForestRegressor(n_estimators=10, criterion='mse', max_depth=5, min_samples_leaf=2)\n",
    "\n",
    "# 訓練模型\n",
    "regr.fit(x1_train, y1_train)\n",
    "\n",
    "# 預測測試集結果\n",
    "y1_pred = regr.predict(x1_test)\n",
    "\n"
   ]
  },
  {
   "cell_type": "code",
   "execution_count": 7,
   "metadata": {},
   "outputs": [
    {
     "name": "stdout",
     "output_type": "stream",
     "text": [
      "Mean Square Error：0.04\n",
      "\n",
      "----------------------------------------\n",
      "\n",
      "['alcohol', 'malic_acid', 'ash', 'alcalinity_of_ash', 'magnesium', 'total_phenols', 'flavanoids', 'nonflavanoid_phenols', 'proanthocyanins', 'color_intensity', 'hue', 'od280/od315_of_diluted_wines', 'proline']\n",
      "[0.05853428 0.00039127 0.0008126  0.00053688 0.01463738 0.\n",
      " 0.31072241 0.         0.         0.11344023 0.00184335 0.26318097\n",
      " 0.23590064]\n"
     ]
    }
   ],
   "source": [
    "from sklearn.metrics import mean_squared_error\n",
    "\n",
    "# 使用 MSE 計算預測值與實際值的差距\n",
    "print('Mean Square Error：%.2f' %mean_squared_error(y1_test, y1_pred))\n",
    "\n",
    "print('\\n' + '-'*40 +'\\n')\n",
    "\n",
    "# 取得個特徵欄位的重要性\n",
    "print(wine.feature_names)\n",
    "print(regr.feature_importances_)"
   ]
  },
  {
   "cell_type": "code",
   "execution_count": 8,
   "metadata": {},
   "outputs": [
    {
     "name": "stdout",
     "output_type": "stream",
     "text": [
      "Accuracy： 0.9777777777777777\n",
      "\n",
      "----------------------------------------\n",
      "\n",
      "['alcohol', 'malic_acid', 'ash', 'alcalinity_of_ash', 'magnesium', 'total_phenols', 'flavanoids', 'nonflavanoid_phenols', 'proanthocyanins', 'color_intensity', 'hue', 'od280/od315_of_diluted_wines', 'proline']\n",
      "[0.11391036 0.05946835 0.01234337 0.04033198 0.0202268  0.06184782\n",
      " 0.13412136 0.00121739 0.02936317 0.13319502 0.02794775 0.11721985\n",
      " 0.24880676]\n",
      "\n",
      "----------------------------------------\n",
      "\n",
      "Mean Square Error：0.02\n"
     ]
    }
   ],
   "source": [
    "# 讀取紅酒資料集\n",
    "wine = datasets.load_wine()\n",
    "\n",
    "# 分割訓練集與測試集\n",
    "x_train, x_test, y_train, y_test = train_test_split(wine.data, wine.target, test_size=0.25, random_state=4)\n",
    "\n",
    "# 建立隨機森林迴歸模型\n",
    "clf = RandomForestClassifier(n_estimators=10, criterion='entropy', max_depth=5, min_samples_leaf=2)\n",
    "\n",
    "# 訓練模型\n",
    "clf.fit(x_train, y_train)\n",
    "\n",
    "# 預測測試集結果\n",
    "y_pred = clf.predict(x_test)\n",
    "\n",
    "# 計算準確率分數\n",
    "acc = metrics.accuracy_score(y_test, y_pred)\n",
    "print('Accuracy：', acc)\n",
    "\n",
    "print('\\n' + '-'*40 +'\\n')\n",
    "\n",
    "# 取得個特徵欄位的重要性\n",
    "print(wine.feature_names)\n",
    "print(clf.feature_importances_)\n",
    "\n",
    "print('\\n' + '-'*40 +'\\n')\n",
    "\n",
    "from sklearn.metrics import mean_squared_error\n",
    "# 使用 MSE 計算預測值與實際值的差距\n",
    "print('Mean Square Error：%.2f' %mean_squared_error(y_test, y_pred))\n"
   ]
  },
  {
   "cell_type": "code",
   "execution_count": 9,
   "metadata": {},
   "outputs": [
    {
     "name": "stdout",
     "output_type": "stream",
     "text": [
      "['alcohol', 'malic_acid', 'ash', 'alcalinity_of_ash', 'magnesium', 'total_phenols', 'flavanoids', 'nonflavanoid_phenols', 'proanthocyanins', 'color_intensity', 'hue', 'od280/od315_of_diluted_wines', 'proline']\n",
      "\n",
      "----------------------------------------\n",
      "\n",
      "Feature importance： [0.01364138 0.         0.         0.         0.         0.06142526\n",
      " 0.08158611 0.         0.         0.41184168 0.         0.04285558\n",
      " 0.38865   ]\n",
      "\n",
      "----------------------------------------\n",
      "\n",
      "Accuracy： 0.9111111111111111\n",
      "\n",
      "----------------------------------------\n",
      "\n",
      "Mean Square Error：0.22\n"
     ]
    }
   ],
   "source": [
    "from sklearn.tree import DecisionTreeClassifier\n",
    "\n",
    "# 讀取內建紅酒資料集\n",
    "wine = datasets.load_wine()\n",
    "\n",
    "# 分割訓練集、測試集\n",
    "x_train, x_test, y_train, y_test = train_test_split(wine.data, wine.target, test_size=0.25, random_state=4)\n",
    "\n",
    "# 建立分類模型\n",
    "clf = DecisionTreeClassifier(criterion='gini', random_state=0)\n",
    "\n",
    "# 訓練模型，將訓練集給模型訓練\n",
    "clf.fit(x_train, y_train)\n",
    "\n",
    "# 預測測試集結果\n",
    "y_pred = clf.predict(x_test)\n",
    "\n",
    "# 顯示特徵名稱\n",
    "print(wine.feature_names)\n",
    "print('\\n' + '-'*40 +'\\n')\n",
    "# 特徵魚的重要性，數值越大越重要\n",
    "print('Feature importance：', clf.feature_importances_)\n",
    "print('\\n' + '-'*40 +'\\n')\n",
    "# 計算準確率\n",
    "acc = metrics.accuracy_score(y_test, y_pred)\n",
    "print('Accuracy：', acc)\n",
    "print('\\n' + '-'*40 +'\\n')\n",
    "# 使用 MSE 計算預測值與實際值的差距\n",
    "print('Mean Square Error：%.2f' %mean_squared_error(y_test, y_pred))\n"
   ]
  },
  {
   "cell_type": "markdown",
   "metadata": {},
   "source": [
    "### **決策樹的效果比隨機森林差一點點，對於隨機森林來說，迴歸模型的均方差數值較分類模型來的大。**    \n",
    "\n",
    "\n",
    "### **以紅酒為例，效果最好的是隨機森林的分類模型，其次是決策樹的分類模型，最後是隨機森林的迴歸模型。**"
   ]
  },
  {
   "cell_type": "code",
   "execution_count": null,
   "metadata": {},
   "outputs": [],
   "source": []
  }
 ],
 "metadata": {
  "kernelspec": {
   "display_name": "Python 3",
   "language": "python",
   "name": "python3"
  },
  "language_info": {
   "codemirror_mode": {
    "name": "ipython",
    "version": 3
   },
   "file_extension": ".py",
   "mimetype": "text/x-python",
   "name": "python",
   "nbconvert_exporter": "python",
   "pygments_lexer": "ipython3",
   "version": "3.6.8"
  }
 },
 "nbformat": 4,
 "nbformat_minor": 2
}

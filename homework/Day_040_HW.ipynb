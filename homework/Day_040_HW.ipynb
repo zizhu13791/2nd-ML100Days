{
 "cells": [
  {
   "cell_type": "markdown",
   "metadata": {},
   "source": [
    "## [作業重點]\n",
    "使用 Sklearn 中的 Lasso, Ridge 模型，來訓練各種資料集，務必了解送進去模型訓練的**資料型態**為何，也請了解模型中各項參數的意義。\n",
    "\n",
    "機器學習的模型非常多種，但要訓練的資料多半有固定的格式，確保你了解訓練資料的格式為何，這樣在應用新模型時，就能夠最快的上手開始訓練！\n",
    "\n",
    "## 練習時間\n",
    "試著使用 sklearn datasets 的其他資料集 (boston, ...)，來訓練自己的線性迴歸模型，並加上適當的正則話來觀察訓練情形。"
   ]
  },
  {
   "cell_type": "code",
   "execution_count": 1,
   "metadata": {},
   "outputs": [],
   "source": [
    "import numpy as np\n",
    "import matplotlib.pyplot as plt\n",
    "\n",
    "from sklearn import datasets, linear_model\n",
    "from sklearn.model_selection import train_test_split\n",
    "from sklearn.metrics import mean_squared_error, r2_score\n",
    "\n",
    "%matplotlib inline"
   ]
  },
  {
   "cell_type": "code",
   "execution_count": 20,
   "metadata": {},
   "outputs": [
    {
     "name": "stdout",
     "output_type": "stream",
     "text": [
      "(506, 13)\n"
     ]
    }
   ],
   "source": [
    "# 讀取波士頓房價\n",
    "boston = datasets.load_boston()\n",
    "\n",
    "print(boston.data.shape)\n",
    "\n",
    "# 分割訓練集、測試集\n",
    "x_train, x_test, y_train, y_test = train_test_split(boston.data, boston.target, test_size=0.2, random_state=5)\n",
    "\n",
    "# 建立 LASSO 線性迴歸模型\n",
    "lasso = linear_model.Lasso(alpha=1.0)\n",
    "\n",
    "# 將訓練集給模型訓練\n",
    "lasso.fit(x_train, y_train)\n",
    "\n",
    "# 將測試資料給模型預測結果\n",
    "y_pred = lasso.predict(x_test)"
   ]
  },
  {
   "cell_type": "code",
   "execution_count": 21,
   "metadata": {},
   "outputs": [
    {
     "name": "stdout",
     "output_type": "stream",
     "text": [
      "[-0.07961832  0.05573009 -0.          0.         -0.          0.4465375\n",
      "  0.02493278 -0.66014543  0.31705708 -0.01544445 -0.79427553  0.00901392\n",
      " -0.83420754]\n"
     ]
    }
   ],
   "source": [
    "# 顯示 LASSO 個特徵對應係數\n",
    "print(lasso.coef_)"
   ]
  },
  {
   "cell_type": "code",
   "execution_count": 22,
   "metadata": {},
   "outputs": [
    {
     "name": "stdout",
     "output_type": "stream",
     "text": [
      "Mean Square Error：29.36\n"
     ]
    }
   ],
   "source": [
    "# 使用 MSE 計算預測值與實際值的差距\n",
    "print('Mean Square Error：%.2f' %mean_squared_error(y_test, y_pred))"
   ]
  },
  {
   "cell_type": "code",
   "execution_count": 26,
   "metadata": {},
   "outputs": [],
   "source": [
    "# 讀取波士頓房價\n",
    "boston = datasets.load_boston()\n",
    "\n",
    "# 分割訓練集、測試集\n",
    "x_train, x_test, y_train, y_test = train_test_split(boston.data, boston.target, test_size=0.2, random_state=5)\n",
    "\n",
    "# 建立 LASSO 線性迴歸模型\n",
    "lasso = linear_model.Lasso(alpha=0.8)\n",
    "\n",
    "# 將訓練集給模型訓練\n",
    "lasso.fit(x_train, y_train)\n",
    "\n",
    "# 將測試資料給模型預測結果\n",
    "y_pred = lasso.predict(x_test)"
   ]
  },
  {
   "cell_type": "code",
   "execution_count": 27,
   "metadata": {},
   "outputs": [
    {
     "name": "stdout",
     "output_type": "stream",
     "text": [
      "[-0.08942313  0.05569362 -0.          0.         -0.          1.06459706\n",
      "  0.01828173 -0.77391024  0.32571503 -0.01578872 -0.80260999  0.00974746\n",
      " -0.79448312]\n"
     ]
    }
   ],
   "source": [
    "# 顯示 LASSO 個特徵對應係數\n",
    "print(lasso.coef_)"
   ]
  },
  {
   "cell_type": "code",
   "execution_count": 28,
   "metadata": {},
   "outputs": [
    {
     "name": "stdout",
     "output_type": "stream",
     "text": [
      "Mean Square Error：27.54\n"
     ]
    }
   ],
   "source": [
    "# 使用 MSE 計算預測值與實際值的差距\n",
    "print('Mean Square Error：%.2f' %mean_squared_error(y_test, y_pred))"
   ]
  },
  {
   "cell_type": "code",
   "execution_count": 42,
   "metadata": {},
   "outputs": [
    {
     "name": "stdout",
     "output_type": "stream",
     "text": [
      "--------------------------------------------------\n"
     ]
    }
   ],
   "source": [
    "print('-'*50)"
   ]
  },
  {
   "cell_type": "code",
   "execution_count": 29,
   "metadata": {},
   "outputs": [],
   "source": [
    "# 讀取波士頓房價\n",
    "boston = datasets.load_boston()\n",
    "\n",
    "# 分割訓練集、測試集\n",
    "x_train, x_test, y_train, y_test = train_test_split(boston.data, boston.target, test_size=0.2, random_state=5)\n",
    "\n",
    "# 建立 Ridge 線性迴歸模型\n",
    "ridge = linear_model.Ridge(alpha=0.8)\n",
    "\n",
    "# 將訓練集給模型訓練\n",
    "ridge.fit(x_train, y_train)\n",
    "\n",
    "# 將測試資料給模型預測結果\n",
    "y_pred = ridge.predict(x_test)"
   ]
  },
  {
   "cell_type": "code",
   "execution_count": 30,
   "metadata": {},
   "outputs": [
    {
     "name": "stdout",
     "output_type": "stream",
     "text": [
      "[-1.28429031e-01  5.09154591e-02 -2.61358545e-02  2.52225275e+00\n",
      " -9.36041206e+00  3.42659675e+00 -3.44633710e-03 -1.39328173e+00\n",
      "  3.50999587e-01 -1.38201856e-02 -8.87908768e-01  1.19612474e-02\n",
      " -6.06950060e-01]\n"
     ]
    }
   ],
   "source": [
    "# 顯示 Ridge 的各特徵對應係數\n",
    "print(ridge.coef_)"
   ]
  },
  {
   "cell_type": "code",
   "execution_count": 31,
   "metadata": {},
   "outputs": [
    {
     "name": "stdout",
     "output_type": "stream",
     "text": [
      "Mean Square Error：21.49\n"
     ]
    }
   ],
   "source": [
    "# 使用 MSE 計算預測值與實際值的差距\n",
    "print('Mean Square Error：%.2f' %mean_squared_error(y_test, y_pred))"
   ]
  },
  {
   "cell_type": "code",
   "execution_count": 32,
   "metadata": {},
   "outputs": [],
   "source": [
    "# 讀取波士頓房價\n",
    "boston = datasets.load_boston()\n",
    "\n",
    "# 分割訓練集、測試集\n",
    "x_train, x_test, y_train, y_test = train_test_split(boston.data, boston.target, test_size=0.2, random_state=5)\n",
    "\n",
    "# 建立 Ridge 線性迴歸模型\n",
    "ridge = linear_model.Ridge(alpha=1.0)\n",
    "\n",
    "# 將訓練集給模型訓練\n",
    "ridge.fit(x_train, y_train)\n",
    "\n",
    "# 將測試資料給模型預測結果\n",
    "y_pred = ridge.predict(x_test)"
   ]
  },
  {
   "cell_type": "code",
   "execution_count": 33,
   "metadata": {},
   "outputs": [
    {
     "name": "stdout",
     "output_type": "stream",
     "text": [
      "[-1.28119023e-01  5.11339113e-02 -2.96980335e-02  2.48951428e+00\n",
      " -8.48187731e+00  3.42539775e+00 -4.02323845e-03 -1.37995760e+00\n",
      "  3.49347811e-01 -1.39133697e-02 -8.79583093e-01  1.19877320e-02\n",
      " -6.08894194e-01]\n"
     ]
    }
   ],
   "source": [
    "# 顯示 Ridge 的各特徵對應係數\n",
    "print(ridge.coef_)"
   ]
  },
  {
   "cell_type": "code",
   "execution_count": 34,
   "metadata": {},
   "outputs": [
    {
     "name": "stdout",
     "output_type": "stream",
     "text": [
      "Mean Square Error：21.60\n"
     ]
    }
   ],
   "source": [
    "# 使用 MSE 計算預測值與實際值的差距\n",
    "print('Mean Square Error：%.2f' %mean_squared_error(y_test, y_pred))"
   ]
  },
  {
   "cell_type": "code",
   "execution_count": 41,
   "metadata": {},
   "outputs": [
    {
     "name": "stdout",
     "output_type": "stream",
     "text": [
      "--------------------------------------------------\n"
     ]
    }
   ],
   "source": [
    "print('-'*50)"
   ]
  },
  {
   "cell_type": "code",
   "execution_count": 48,
   "metadata": {},
   "outputs": [
    {
     "name": "stdout",
     "output_type": "stream",
     "text": [
      "[ -0.           0.          -0.           0.          -0.\n",
      "   0.          -0.           0.          -0.          -0.50538073\n",
      "  -1.20289497   0.         -13.27051523]\n",
      "Mean Square Error：47.39\n"
     ]
    }
   ],
   "source": [
    "from sklearn.preprocessing import MinMaxScaler\n",
    "\n",
    "# 讀取波士頓房價\n",
    "boston = datasets.load_boston()\n",
    "\n",
    "# 分割訓練集、測試集\n",
    "x_train, x_test, y_train, y_test = train_test_split(boston.data, boston.target, test_size=0.2, random_state=5)\n",
    "\n",
    "# 建立 LASSO 線性迴歸模型\n",
    "lasso = linear_model.Lasso(alpha=0.8)\n",
    "\n",
    "x_train_sc = MinMaxScaler().fit_transform(x_train)\n",
    "x_test_sc = MinMaxScaler().fit_transform(x_test)\n",
    "\n",
    "# 將訓練集給模型訓練\n",
    "lasso.fit(x_train_sc, y_train)\n",
    "\n",
    "# 將測試資料給模型預測結果\n",
    "y_pred = lasso.predict(x_test_sc)\n",
    "\n",
    "# 顯示 LASSO 的各特徵對應係數\n",
    "print(lasso.coef_)\n",
    "\n",
    "# 使用 MSE 計算預測值與實際值的差距\n",
    "print('Mean Square Error：%.2f' %mean_squared_error(y_test, y_pred))"
   ]
  },
  {
   "cell_type": "markdown",
   "metadata": {},
   "source": [
    " **使用最大最小正規化後，效果反而變差**"
   ]
  },
  {
   "cell_type": "code",
   "execution_count": 50,
   "metadata": {},
   "outputs": [
    {
     "name": "stdout",
     "output_type": "stream",
     "text": [
      "[-0.          0.         -0.          0.17755983 -0.          2.38588635\n",
      " -0.         -0.         -0.         -0.         -1.51851608  0.33062197\n",
      " -4.02519337]\n",
      "Mean Square Error：23.57\n"
     ]
    }
   ],
   "source": [
    "from sklearn.preprocessing import StandardScaler\n",
    "\n",
    "# 讀取波士頓房價\n",
    "boston = datasets.load_boston()\n",
    "\n",
    "# 分割訓練集、測試集\n",
    "x_train, x_test, y_train, y_test = train_test_split(boston.data, boston.target, test_size=0.2, random_state=5)\n",
    "\n",
    "# 建立 LASSO 線性迴歸模型\n",
    "lasso = linear_model.Lasso(alpha=0.8)\n",
    "\n",
    "x_train_sc = StandardScaler().fit_transform(x_train)\n",
    "x_test_sc = StandardScaler().fit_transform(x_test)\n",
    "\n",
    "# 將訓練集給模型訓練\n",
    "lasso.fit(x_train_sc, y_train)\n",
    "\n",
    "# 將測試資料給模型預測結果\n",
    "y_pred = lasso.predict(x_test_sc)\n",
    "\n",
    "# 顯示 LASSO 的各特徵對應係數\n",
    "print(lasso.coef_)\n",
    "\n",
    "# 使用 MSE 計算預測值與實際值的差距\n",
    "print('Mean Square Error：%.2f' %mean_squared_error(y_test, y_pred))"
   ]
  },
  {
   "cell_type": "markdown",
   "metadata": {},
   "source": [
    "**使用標準正規化後的效果比最大最小化後的效果好，但是依然比原本的效果差**"
   ]
  },
  {
   "cell_type": "code",
   "execution_count": null,
   "metadata": {},
   "outputs": [],
   "source": []
  }
 ],
 "metadata": {
  "kernelspec": {
   "display_name": "Python 3",
   "language": "python",
   "name": "python3"
  },
  "language_info": {
   "codemirror_mode": {
    "name": "ipython",
    "version": 3
   },
   "file_extension": ".py",
   "mimetype": "text/x-python",
   "name": "python",
   "nbconvert_exporter": "python",
   "pygments_lexer": "ipython3",
   "version": "3.6.8"
  }
 },
 "nbformat": 4,
 "nbformat_minor": 2
}

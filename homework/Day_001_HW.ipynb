{
 "cells": [
  {
   "cell_type": "markdown",
   "metadata": {},
   "source": [
    "# 作業1：\n",
    "\n",
    "請上 Kaggle, 在 Competitions 或 Dataset 中找一組競賽或資料並寫下：\n",
    "\n",
    "[DJIA 30 Stock Time Series](https://www.kaggle.com/szrlee/stock-time-series-20050101-to-20171231)\n",
    "\n",
    "1.你選的這組資料為何重要？  \n",
    "  道瓊工業平均指數（Dow Jones Industrial Average，DJIA），是測量美國股票市場上工業發展最悠久且最有公信力的美國市場指數之一，也是美國最為人所熟知的一種股價指數。至今日，平均指數包括美國最大、最知名的30間上市公司。\n",
    "  因為道瓊指數在股票市場站佔有相當的地位，且大型企業在產業中具有一定的影響力和代表性。所以，希望藉由分析道瓊工業平均指數的歷史資料，得到各股以及平均指數的漲跌的資訊與時事的關聯，進而預測未來股市的漲跌。\n",
    "\n",
    "2.資料從何而來 (tips: 譬如提供者是誰、以什麼方式蒐集)？  \n",
    "  提供者為來自中國的szrlee，透過pandas_datareader函式庫從google快速讀取道瓊工業平均指數12年的歷史資料。\n",
    "\n",
    "3.蒐集而來的資料型態為何？  \n",
    "  資料類型為CSV的結構化資料。\n",
    "  \n",
    "  欄位包含：  \n",
    "      * Date - in format: yy-mm-dd  \n",
    "      * Open - price of the stock at market open (this is NYSE data so all in USD)  \n",
    "      * High - Highest price reached in the day  \n",
    "      * Low Close - Lowest price reached in the day  \n",
    "      * Volume - Number of shares traded  \n",
    "      * Name - the stock's ticker name  \n",
    "  \n",
    "4.這組資料想解決的問題如何評估？  \n",
    "  利用這筆歷史資料觀察股票歷史如何隨著時間變化，根據數據繪製圖形並計算波動與平均線等統計數據，利用統計數據以及歷史交易量建立預測模型，預測可能的漲跌時間。\n",
    "\n"
   ]
  },
  {
   "cell_type": "markdown",
   "metadata": {},
   "source": [
    "# 作業2：\n",
    "\n",
    "想像你經營一個自由載客車隊，你希望能透過數據分析以提升業績，請你思考並描述你如何規劃整體的分析/解決方案：\n",
    "\n",
    "1.核心問題為何 (tips：如何定義 「提升業績 & 你的假設」)？  \n",
    "  提升業績：讓車隊汽車載客率增加，以減少車隊汽車空車的閒置時間。\n",
    "\n",
    "2.資料從何而來 (tips：哪些資料可能會對你想問的問題產生影響 & 資料如何蒐集)？  \n",
    "  紀錄各地區不同時節的乘車資料，包括汽車車號、上車地點、下車地點、路徑與時間等資訊。至於如何蒐集，可以在車隊的叫車系統中添加需要紀錄的項目一併記錄起來，利用google maps定位或是GPS定位來記錄行車路徑。\n",
    "\n",
    "3.蒐集而來的資料型態為何？  \n",
    "  結構化資料：紀錄上下車時間、上下車地點、車資等。  \n",
    "  非結構化資料：行車路徑圖。\n",
    "\n",
    "4.你要回答的問題，其如何評估 (tips：你的假設如何驗證)？  \n",
    "  將資料數據分為實驗組與測試組兩組對照，利用回歸模型分析比對預測及實際的車資金額。\n"
   ]
  },
  {
   "cell_type": "markdown",
   "metadata": {},
   "source": [
    "# 作業3：\n",
    "\n",
    "請點選下方檢視範例依照 Day_001_example_of_metrics.ipynb 完成 Mean Squared Error 的函式\n",
    "\n",
    "請寫一個函式用來計算 Mean Square Error\n",
    "$ MSE = \\frac{1}{n}\\sum_{i=1}^{n}{(Y_i - \\hat{Y}_i)^2} $\n",
    "\n",
    "Hint: [如何取平方](https://googoodesign.gitbooks.io/-ezpython/unit-1.html)"
   ]
  },
  {
   "cell_type": "code",
   "execution_count": 13,
   "metadata": {},
   "outputs": [],
   "source": [
    "# 引入函式庫\n",
    "import numpy as np\n",
    "import matplotlib.pyplot as plt"
   ]
  },
  {
   "cell_type": "code",
   "execution_count": 14,
   "metadata": {},
   "outputs": [],
   "source": [
    "# 定義 Mean absolute error函數\n",
    "\"\"\"\n",
    "    計算 MAE\n",
    "    Args：\n",
    "        - y：實際值\n",
    "        - yp：預測值\n",
    "    Return：\n",
    "        - mae：MAE\n",
    "\"\"\"\n",
    "def mean_absolute_error(y , yp):\n",
    "    mae = MAE = sum(abs(y-yp))/len(y)\n",
    "    return mae\n",
    "    \n",
    "#MAE = mean_absolute_error(y,y_hat)\n",
    "#print(\"The Mean absolute error is %.3f\"%(MAE))"
   ]
  },
  {
   "cell_type": "code",
   "execution_count": 15,
   "metadata": {},
   "outputs": [],
   "source": [
    "# 定義 Mean square error函數\n",
    "\"\"\"\n",
    "    計算 MSE  https://en.wikipedia.org/wiki/Mean_squared_error\n",
    "    Args：\n",
    "        - y：實際值\n",
    "        - yp：預測值\n",
    "    Return：\n",
    "        - mse：MSE\n",
    "\"\"\"\n",
    "def mean_square_error(y , yp):\n",
    "    mse = MSE = sum((y-yp)**2)/len(y)\n",
    "    return mse\n",
    "    \n",
    "#MSE = mean_square_error(y,y_hat)\n",
    "#print(\"The Mean square error is %.3f\"%(MSE))"
   ]
  },
  {
   "cell_type": "code",
   "execution_count": 16,
   "metadata": {},
   "outputs": [
    {
     "data": {
      "image/png": "[encoded data removed]",
      "text/plain": [
       "<Figure size 432x288 with 1 Axes>"
      ]
     },
     "metadata": {
      "needs_background": "light"
     },
     "output_type": "display_data"
    }
   ],
   "source": [
    "w = 3\n",
    "b = 0.5\n",
    "\n",
    "x_lin = np.linspace(0,100,101) #指定生成 [0,100]，共計101個數\n",
    "y = (x_lin + np.random.random(101)*5)*w + b\n",
    "\n",
    "plt.plot(x_lin , y , 'b.' , label='data points')\n",
    "plt.title(\"Assume we have data points\")\n",
    "plt.legend(loc=2)\n",
    "plt.show()"
   ]
  },
  {
   "cell_type": "code",
   "execution_count": 17,
   "metadata": {},
   "outputs": [
    {
     "data": {
      "image/png": "[encoded data removed]",
      "text/plain": [
       "<Figure size 432x288 with 1 Axes>"
      ]
     },
     "metadata": {
      "needs_background": "light"
     },
     "output_type": "display_data"
    }
   ],
   "source": [
    "y_hat = x_lin * w + b\n",
    "\n",
    "plt.plot(x_lin , y , 'b.' , label='data')\n",
    "plt.plot(x_lin , y_hat , 'r-' , label='prediction')\n",
    "plt.title(\"Assume we have data points (And the prediction)\")\n",
    "plt.legend(loc=2)\n",
    "plt.show()"
   ]
  },
  {
   "cell_type": "code",
   "execution_count": 18,
   "metadata": {},
   "outputs": [
    {
     "name": "stdout",
     "output_type": "stream",
     "text": [
      "The Mean square error is 79.246\n",
      "The Mean absolute error is 7.790\n"
     ]
    }
   ],
   "source": [
    "# 執行Function，確認有沒有正常執行\n",
    "\n",
    "MSE = mean_square_error(y,y_hat)\n",
    "MAE = mean_absolute_error(y,y_hat)\n",
    "\n",
    "print(\"The Mean square error is %.3f\" %(MSE))\n",
    "print(\"The Mean absolute error is %.3f\" %(MAE))"
   ]
  },
  {
   "cell_type": "code",
   "execution_count": null,
   "metadata": {},
   "outputs": [],
   "source": []
  }
 ],
 "metadata": {
  "kernelspec": {
   "display_name": "Python 3",
   "language": "python",
   "name": "python3"
  },
  "language_info": {
   "codemirror_mode": {
    "name": "ipython",
    "version": 3
   },
   "file_extension": ".py",
   "mimetype": "text/x-python",
   "name": "python",
   "nbconvert_exporter": "python",
   "pygments_lexer": "ipython3",
   "version": "3.6.8"
  }
 },
 "nbformat": 4,
 "nbformat_minor": 2
}

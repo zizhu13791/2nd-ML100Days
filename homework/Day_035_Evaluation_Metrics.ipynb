{
 "cells": [
  {
   "cell_type": "markdown",
   "metadata": {},
   "source": [
    "## [教學目標]\n",
    "學習 sklearn 中，各種評估指標的使用與意義  \n",
    "\n",
    "## [範例重點]\n",
    "注意觀察各指標的數值範圍，以及輸入函數中的資料格式"
   ]
  },
  {
   "cell_type": "code",
   "execution_count": 1,
   "metadata": {},
   "outputs": [],
   "source": [
    "# 引入函式庫\n",
    "from sklearn import metrics, datasets\n",
    "from sklearn.linear_model import LinearRegression\n",
    "from sklearn.model_selection import train_test_split\n",
    "\n",
    "import matplotlib.pyplot as plt\n",
    "from matplotlib.pylab import rcParams\n",
    "import numpy as np\n",
    "%matplotlib inline"
   ]
  },
  {
   "cell_type": "markdown",
   "metadata": {},
   "source": [
    "## 回歸問題\n",
    "常見的評估指標有\n",
    "- MAE\n",
    "- MSE\n",
    "- R-square  \n",
    "\n",
    "\n",
    "我們隨機生成(X, y)資料，然後使用線性回歸模型做預測，再使用 MAE, MSE, R-square 評估"
   ]
  },
  {
   "cell_type": "code",
   "execution_count": 3,
   "metadata": {},
   "outputs": [
    {
     "name": "stdout",
     "output_type": "stream",
     "text": [
      "MAE： 2.841797252565566\n",
      "MSE： 12.48868006739824\n",
      "R-square： 0.9916581036260311\n"
     ]
    }
   ],
   "source": [
    "# 生成資料\n",
    "x, y = datasets.make_regression(n_features=1, random_state=42, noise=4)\n",
    "\n",
    "# 建立迴歸模型\n",
    "model = LinearRegression()\n",
    "\n",
    "# 將資料放進模型訓練\n",
    "model.fit(x, y)\n",
    "\n",
    "# 進行預測\n",
    "prediction = model.predict(x)\n",
    "\n",
    "# 使用 MAE 與 MSE 評估\n",
    "mae = metrics.mean_absolute_error(prediction, y)\n",
    "mse = metrics.mean_squared_error(prediction, y)\n",
    "\n",
    "# 使用 r-square 評估\n",
    "r2 = metrics.r2_score(prediction, y)\n",
    "\n",
    "print('MAE：', mae)\n",
    "print('MSE：', mse)\n",
    "print('R-square：', r2)"
   ]
  },
  {
   "cell_type": "markdown",
   "metadata": {},
   "source": [
    "## 分類問題\n",
    "常見的評估指標有\n",
    "- AUC\n",
    "- F1-Score (Precision, Recall)"
   ]
  },
  {
   "cell_type": "code",
   "execution_count": 4,
   "metadata": {},
   "outputs": [],
   "source": [
    "# 使用 sklearn 內涵的乳癌資料集\n",
    "cancer = datasets.load_breast_cancer()\n",
    "\n",
    "x_train, x_test, y_train, y_test = train_test_split(cancer.data, cancer.target, test_size=50, random_state=0)"
   ]
  },
  {
   "cell_type": "code",
   "execution_count": 5,
   "metadata": {},
   "outputs": [
    {
     "name": "stdout",
     "output_type": "stream",
     "text": [
      "[0 1 1 1 1 1 1 1 1 1 1 1 1 1 1 0 1 0 0 0 0 0 1 1 0 1 1 0 1 0 1 0 1 0 1 0 1\n",
      " 0 1 0 0 1 0 1 1 0 1 1 1 0]\n"
     ]
    }
   ],
   "source": [
    "# 測試集中的 label\n",
    "print(y_test)"
   ]
  },
  {
   "cell_type": "code",
   "execution_count": 6,
   "metadata": {},
   "outputs": [],
   "source": [
    "# 先隨機生成 50 筆預測值，範圍都在 0~1 之間，代表機率值\n",
    "y_pred = np.random.random( (50,) )"
   ]
  },
  {
   "cell_type": "code",
   "execution_count": 7,
   "metadata": {},
   "outputs": [
    {
     "name": "stdout",
     "output_type": "stream",
     "text": [
      "[0.5818829  0.40355964 0.10098341 0.69086033 0.79583333 0.60427576\n",
      " 0.21481332 0.55237186 0.94780632 0.45993416 0.42335961 0.57958649\n",
      " 0.51489769 0.95073919 0.76154901 0.7149507  0.45482677 0.76603868\n",
      " 0.38927831 0.93705245 0.15973299 0.04819042 0.44627021 0.95445459\n",
      " 0.89247762 0.60018311 0.68161384 0.93959681 0.82612764 0.34147117\n",
      " 0.17860603 0.50489725 0.80660031 0.59026097 0.69337507 0.70967075\n",
      " 0.99588124 0.47517224 0.3160728  0.82769152 0.82660009 0.35958336\n",
      " 0.02082487 0.0675471  0.27241479 0.05500784 0.85890034 0.9174447\n",
      " 0.34151263 0.38332085]\n"
     ]
    }
   ],
   "source": [
    "print(y_pred)"
   ]
  },
  {
   "cell_type": "markdown",
   "metadata": {},
   "source": [
    "## **AUC**"
   ]
  },
  {
   "cell_type": "code",
   "execution_count": 9,
   "metadata": {},
   "outputs": [
    {
     "name": "stdout",
     "output_type": "stream",
     "text": [
      "AUC： 0.5314091680814941\n"
     ]
    }
   ],
   "source": [
    "# 使用 roc_auc_score 來評估\n",
    "# 注意 y_pred 必須要放機率值進去!\n",
    "auc = metrics.roc_auc_score(y_test, y_pred)\n",
    "print('AUC：', auc) # 得到結果約 0.5，與亂猜的結果相近，因為我們的預測值是用隨機生成的"
   ]
  },
  {
   "cell_type": "markdown",
   "metadata": {},
   "source": [
    "## **F1-Score**"
   ]
  },
  {
   "cell_type": "code",
   "execution_count": 10,
   "metadata": {},
   "outputs": [
    {
     "name": "stdout",
     "output_type": "stream",
     "text": [
      "F1-Score： 0.6000000000000001\n",
      "Precision： 0.6206896551724138\n",
      "Recall： 0.5806451612903226\n"
     ]
    }
   ],
   "source": [
    "# 設定閾值\n",
    "threshold = 0.5\n",
    "\n",
    "# 使用 np.where 函數, 將 y_pred > 0.5 的值變為 1，小於 0.5 的為 0\n",
    "y_pred_binarized = np.where(y_pred>threshold, 1, 0)\n",
    "\n",
    "# 使用 F1-score 評估\n",
    "f1 = metrics.f1_score(y_test, y_pred_binarized)\n",
    "\n",
    "# 使用 Precision、recall 評估\n",
    "precision = metrics.precision_score(y_test, y_pred_binarized)\n",
    "recall = metrics.recall_score(y_test, y_pred_binarized)\n",
    "\n",
    "print('F1-Score：', f1)\n",
    "print('Precision：', precision)\n",
    "print('Recall：', recall)"
   ]
  },
  {
   "cell_type": "code",
   "execution_count": null,
   "metadata": {},
   "outputs": [],
   "source": []
  }
 ],
 "metadata": {
  "kernelspec": {
   "display_name": "Python 3",
   "language": "python",
   "name": "python3"
  },
  "language_info": {
   "codemirror_mode": {
    "name": "ipython",
    "version": 3
   },
   "file_extension": ".py",
   "mimetype": "text/x-python",
   "name": "python",
   "nbconvert_exporter": "python",
   "pygments_lexer": "ipython3",
   "version": "3.6.8"
  }
 },
 "nbformat": 4,
 "nbformat_minor": 2
}

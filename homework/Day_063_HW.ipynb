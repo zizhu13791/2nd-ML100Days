{
 "cells": [
  {
   "cell_type": "markdown",
   "metadata": {},
   "source": [
    "# 作業\n",
    "* 在精簡深度學習的方式上 : 卷積類神經 (CNN) 採用像素遠近，而遞歸類神經 (RNN) 採用著則是時間遠近\n",
    "* 那麼，既然有著類似的設計精神，兩者是否有可能互換應用呢?"
   ]
  },
  {
   "cell_type": "markdown",
   "metadata": {},
   "source": [
    "============================================================\n",
    "\n",
    "### 卷積神經網路(CNN)\n",
    "    * 特性：\n",
    "        1. 區域性感知(不需要看整張圖，只需要看局部區域即可)\n",
    "        2. 權值共享\n",
    "        \n",
    "### 遞歸神經網路(RNN)\n",
    "    * 特性： 有時間序  \n",
    "    \n",
    "============================================================\n",
    "    \n",
    "\n",
    "[人工智慧大歷史 林守德教授演講  / Mora Chen 筆記](https://medium.com/@suipichen/%E4%BA%BA%E5%B7%A5%E6%99%BA%E6%85%A7%E5%A4%A7%E6%AD%B7%E5%8F%B2-ffe46a350543)  \n",
    "\n",
    "[泛科學：3 分鐘搞懂深度學習到底在深什麼 節錄李宏毅老師演講](https://panx.asia/archives/53209)\n"
   ]
  },
  {
   "cell_type": "markdown",
   "metadata": {},
   "source": [
    "**Ans：**  \n",
    "    我認為只要滿足CNN與RNN各自的條件，就能互換應用。"
   ]
  },
  {
   "cell_type": "code",
   "execution_count": null,
   "metadata": {},
   "outputs": [],
   "source": []
  }
 ],
 "metadata": {
  "kernelspec": {
   "display_name": "Python 3",
   "language": "python",
   "name": "python3"
  },
  "language_info": {
   "codemirror_mode": {
    "name": "ipython",
    "version": 3
   },
   "file_extension": ".py",
   "mimetype": "text/x-python",
   "name": "python",
   "nbconvert_exporter": "python",
   "pygments_lexer": "ipython3",
   "version": "3.6.9"
  }
 },
 "nbformat": 4,
 "nbformat_minor": 2
}

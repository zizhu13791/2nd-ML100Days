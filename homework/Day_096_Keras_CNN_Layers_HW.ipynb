{
 "cells": [
  {
   "cell_type": "markdown",
   "metadata": {},
   "source": [
    "## 作業  \n",
    "\n",
    "請閱讀 Keras 官方範例 [mnist_cnn.py](https://github.com/keras-team/keras/blob/master/examples/mnist_cnn.py)  \n",
    "\n",
    "並回答下列問題。僅有 70 行程式碼，請確保每一行的程式碼你都能夠理解目的\n",
    "\n",
    "1. 是否有對資料做標準化 (normalization)? 如果有，在哪幾行?\n",
    "2. 使用的優化器 Optimizer 為何?\n",
    "3. 模型總共疊了幾層卷積層?\n",
    "4. 模型的參數量是多少?\n"
   ]
  },
  {
   "cell_type": "markdown",
   "metadata": {},
   "source": [
    "1. 是否對資料做標準化(normalization)?\n",
    "    * 有，將資料除以255做標準化(37與38行)。\n",
    "\n",
    "2. 使用的優化器(Optimizer)為何?\n",
    "    * 使用 Adadelta() 優化器(60行)。\n",
    "\n",
    "3. 模型總共疊了幾層卷積層?\n",
    "    * 模型中總共疊了 2 層卷積層(48和51行)。\n",
    "    \n",
    "4. 模型參數數量是多少?\n",
    "    * \n",
    "    \n",
    "    conv_1：\n",
    "        filter 個數 = 32\n",
    "        image shape = 28*28\n",
    "        kernel size = 3*3\n",
    "        一個卷積核的參數為 3*3*1 = 9\n",
    "        32個卷積的參數總和： 32*9+32 = 320\n",
    "        \n",
    "    conv_2：\n",
    "        64*9+64 = 640\n",
    "       \n",
    "    Dense：\n",
    "        128*64+128 = 8320\n"
   ]
  }
 ],
 "metadata": {
  "kernelspec": {
   "display_name": "Python 3",
   "language": "python",
   "name": "python3"
  },
  "language_info": {
   "codemirror_mode": {
    "name": "ipython",
    "version": 3
   },
   "file_extension": ".py",
   "mimetype": "text/x-python",
   "name": "python",
   "nbconvert_exporter": "python",
   "pygments_lexer": "ipython3",
   "version": "3.6.9"
  }
 },
 "nbformat": 4,
 "nbformat_minor": 2
}

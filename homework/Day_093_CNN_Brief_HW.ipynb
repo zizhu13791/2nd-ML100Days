{
 "cells": [
  {
   "cell_type": "markdown",
   "metadata": {},
   "source": [
    "# 作業目標:\n",
    "    運用 Keras 模組建構CNN, 了解 CNN 的架構\n",
    "    \n",
    "    \n",
    "# 作業重點\n",
    "(1)嘗試比對 Dense 與 layers.Conv2D 架構NN 的差異\n",
    "\n",
    "(2) 有沒有Pooling layer, 對於參數量的差異\n",
    "\n",
    "注意: input_shape 請勿修改"
   ]
  },
  {
   "cell_type": "code",
   "execution_count": 1,
   "metadata": {},
   "outputs": [
    {
     "name": "stderr",
     "output_type": "stream",
     "text": [
      "Using TensorFlow backend.\n"
     ]
    },
    {
     "name": "stdout",
     "output_type": "stream",
     "text": [
      "2.2.4\n"
     ]
    }
   ],
   "source": [
    "# 載入相關模組\n",
    "import keras\n",
    "from keras import layers, models\n",
    "from keras.models import Sequential\n",
    "from keras.layers import Conv2D, Activation, MaxPooling2D, Flatten, Dense\n",
    "\n",
    "# 確認 keras 的版本\n",
    "print(keras.__version__)"
   ]
  },
  {
   "cell_type": "markdown",
   "metadata": {},
   "source": [
    "#### DNN ： 將輸入 28x28x1 直接相乘，故 input_shape = 784"
   ]
  },
  {
   "cell_type": "code",
   "execution_count": 6,
   "metadata": {},
   "outputs": [
    {
     "name": "stdout",
     "output_type": "stream",
     "text": [
      "_________________________________________________________________\n",
      "Layer (type)                 Output Shape              Param #   \n",
      "=================================================================\n",
      "dense_7 (Dense)              (None, 32)                25120     \n",
      "_________________________________________________________________\n",
      "activation_5 (Activation)    (None, 32)                0         \n",
      "_________________________________________________________________\n",
      "dense_8 (Dense)              (None, 100)               3300      \n",
      "_________________________________________________________________\n",
      "activation_6 (Activation)    (None, 100)               0         \n",
      "_________________________________________________________________\n",
      "dense_9 (Dense)              (None, 10)                1010      \n",
      "_________________________________________________________________\n",
      "activation_7 (Activation)    (None, 10)                0         \n",
      "=================================================================\n",
      "Total params: 29,430\n",
      "Trainable params: 29,430\n",
      "Non-trainable params: 0\n",
      "_________________________________________________________________\n"
     ]
    }
   ],
   "source": [
    "model = Sequential( [Dense(32, input_shape=(784,)),\n",
    "                     Activation('relu'),\n",
    "                     Dense(100),\n",
    "                     Activation('relu'),\n",
    "                     Dense(10),\n",
    "                     Activation('softmax')] )\n",
    "\n",
    "model.summary()"
   ]
  },
  {
   "cell_type": "markdown",
   "metadata": {},
   "source": [
    "#### 以下為\"不接\" Flatten Layer"
   ]
  },
  {
   "cell_type": "code",
   "execution_count": 8,
   "metadata": {},
   "outputs": [
    {
     "name": "stdout",
     "output_type": "stream",
     "text": [
      "_________________________________________________________________\n",
      "Layer (type)                 Output Shape              Param #   \n",
      "=================================================================\n",
      "conv2d_6 (Conv2D)            (None, 26, 26, 32)        320       \n",
      "_________________________________________________________________\n",
      "max_pooling2d_6 (MaxPooling2 (None, 13, 13, 32)        0         \n",
      "_________________________________________________________________\n",
      "conv2d_7 (Conv2D)            (None, 11, 11, 32)        9248      \n",
      "_________________________________________________________________\n",
      "max_pooling2d_7 (MaxPooling2 (None, 5, 5, 32)          0         \n",
      "_________________________________________________________________\n",
      "dense_12 (Dense)             (None, 5, 5, 100)         3300      \n",
      "_________________________________________________________________\n",
      "activation_10 (Activation)   (None, 5, 5, 100)         0         \n",
      "_________________________________________________________________\n",
      "dense_13 (Dense)             (None, 5, 5, 10)          1010      \n",
      "_________________________________________________________________\n",
      "activation_11 (Activation)   (None, 5, 5, 10)          0         \n",
      "=================================================================\n",
      "Total params: 13,878\n",
      "Trainable params: 13,878\n",
      "Non-trainable params: 0\n",
      "_________________________________________________________________\n"
     ]
    }
   ],
   "source": [
    "# 建立一個序列模型\n",
    "model2 = models.Sequential()\n",
    "\n",
    "# 建立兩個卷績層， 32 個內核，內核大小 3x3\n",
    "# 輸入影像大小 28x28x1\n",
    "model2.add( layers.Conv2D(32, (3,3), input_shape=(28,28,1)) )\n",
    "\n",
    "# 新增一池化層，採用 maxpooling\n",
    "model2.add(MaxPooling2D(2,2))\n",
    "\n",
    "# 建立第二層卷積層與池化層，注意 不需要再輸入 input_shape\n",
    "model2.add( layers.Conv2D(32, (3,3), activation='relu') )\n",
    "model2.add( MaxPooling2D(2,2) )\n",
    "\n",
    "# 建立一個全連接層\n",
    "model2.add(Dense(units=100))\n",
    "model2.add(Activation('relu'))\n",
    "\n",
    "# 建立一個輸出層，並採用softmax\n",
    "model2.add(Dense(units=10))\n",
    "model2.add(Activation('softmax'))\n",
    "\n",
    "model2.summary()"
   ]
  },
  {
   "cell_type": "markdown",
   "metadata": {},
   "source": [
    "與 DNN 相比，參數量少，因為從第一層 Conv Layer 直接到 Dense Layer 沒有經過 Flatten Layer(flatten layer是把每一個feature map都展開為一個vector.)"
   ]
  },
  {
   "cell_type": "markdown",
   "metadata": {},
   "source": [
    "#### 加入 Flatten Layer，數量變更多"
   ]
  },
  {
   "cell_type": "code",
   "execution_count": 9,
   "metadata": {},
   "outputs": [
    {
     "name": "stdout",
     "output_type": "stream",
     "text": [
      "_________________________________________________________________\n",
      "Layer (type)                 Output Shape              Param #   \n",
      "=================================================================\n",
      "conv2d_8 (Conv2D)            (None, 26, 26, 32)        320       \n",
      "_________________________________________________________________\n",
      "max_pooling2d_8 (MaxPooling2 (None, 13, 13, 32)        0         \n",
      "_________________________________________________________________\n",
      "conv2d_9 (Conv2D)            (None, 11, 11, 32)        9248      \n",
      "_________________________________________________________________\n",
      "max_pooling2d_9 (MaxPooling2 (None, 5, 5, 32)          0         \n",
      "_________________________________________________________________\n",
      "flatten_2 (Flatten)          (None, 800)               0         \n",
      "_________________________________________________________________\n",
      "dense_14 (Dense)             (None, 100)               80100     \n",
      "_________________________________________________________________\n",
      "activation_12 (Activation)   (None, 100)               0         \n",
      "_________________________________________________________________\n",
      "dense_15 (Dense)             (None, 10)                1010      \n",
      "_________________________________________________________________\n",
      "activation_13 (Activation)   (None, 10)                0         \n",
      "=================================================================\n",
      "Total params: 90,678\n",
      "Trainable params: 90,678\n",
      "Non-trainable params: 0\n",
      "_________________________________________________________________\n"
     ]
    }
   ],
   "source": [
    "# 建立一個序列模型\n",
    "model3 = models.Sequential()\n",
    "\n",
    "# 建立兩個卷績層， 32 個內核，內核大小 3x3\n",
    "# 輸入影像大小 28x28x1\n",
    "model3.add( layers.Conv2D(32, (3,3), input_shape=(28,28,1)) )\n",
    "\n",
    "# 新增一池化層，採用 maxpooling\n",
    "model3.add(MaxPooling2D(2,2))\n",
    "\n",
    "# 建立第二層卷積層與池化層，注意 不需要再輸入 input_shape\n",
    "model3.add( layers.Conv2D(32, (3,3), activation='relu') )\n",
    "model3.add( MaxPooling2D(2,2) )\n",
    "\n",
    "# 新增平坦層\n",
    "model3.add( Flatten() )\n",
    "\n",
    "# 建立一個全連接層\n",
    "model3.add(Dense(units=100))\n",
    "model3.add(Activation('relu'))\n",
    "\n",
    "# 建立一個輸出層，並採用softmax\n",
    "model3.add(Dense(units=10))\n",
    "model3.add(Activation('softmax'))\n",
    "\n",
    "model3.summary()"
   ]
  },
  {
   "cell_type": "code",
   "execution_count": null,
   "metadata": {},
   "outputs": [],
   "source": []
  }
 ],
 "metadata": {
  "kernelspec": {
   "display_name": "Python 3",
   "language": "python",
   "name": "python3"
  },
  "language_info": {
   "codemirror_mode": {
    "name": "ipython",
    "version": 3
   },
   "file_extension": ".py",
   "mimetype": "text/x-python",
   "name": "python",
   "nbconvert_exporter": "python",
   "pygments_lexer": "ipython3",
   "version": "3.6.9"
  }
 },
 "nbformat": 4,
 "nbformat_minor": 2
}
